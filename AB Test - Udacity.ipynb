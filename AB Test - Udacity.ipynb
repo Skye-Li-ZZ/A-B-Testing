{
 "cells": [
  {
   "cell_type": "markdown",
   "metadata": {},
   "source": [
    "## Introduction"
   ]
  },
  {
   "cell_type": "markdown",
   "metadata": {},
   "source": [
    "This is the final project of the A/B Testing online course of Udacity. In this project, we will consider an actual experiment that was run by Udacity. The specific numbers have been changed, but the patterns have not."
   ]
  },
  {
   "cell_type": "markdown",
   "metadata": {},
   "source": [
    "## I. Context"
   ]
  },
  {
   "cell_type": "markdown",
   "metadata": {},
   "source": [
    "**Two existing options** <br/>\n",
    "Udacity is an online tech education platforms. It provides courses with videos, reading materials and coaching supports for students.\n",
    "<br/>\n",
    "At the time of this experiment, Udacity courses currently have two options on the course overview page: \"start free trial\", and \"access course materials\".\n",
    "<br/>\n",
    "1. If the student clicks \"start free trial\", they will be asked to enter their credit card information, and then they will be enrolled in a free trial for the paid version of the course. After 14 days, they will automatically be charged unless they cancel first.\n",
    "<br/>\n",
    "2. If the student clicks \"access course materials\", they will be able to view the videos and take the quizzes for free, but they will not receive coaching support or a verified certificate, and they will not submit their final project for feedback.\n",
    "<br/>"
   ]
  },
  {
   "cell_type": "markdown",
   "metadata": {},
   "source": [
    "**New feature** <br/>\n",
    "In the experiment, Udacity tested a change where if the student clicked \"start free trial\", they were asked how much time they had available to devote to the course. If the student indicated 5 or more hours per week, they would be taken through the checkout process as usual. If they indicated fewer than 5 hours per week, a message would appear indicating that Udacity courses usually require a greater time commitment for successful completion, and suggesting that the student might like to access the course materials for free. At this point, the student would have the option to continue enrolling in the free trial, or access the course materials for free instead. "
   ]
  },
  {
   "cell_type": "markdown",
   "metadata": {},
   "source": [
    "**The goal of this change is to improve the overall student experience and improve coaches' capacity to support students who are likely to complete the course.**<br/>\n",
    "Specifically, we want to test if this might set clearer expectations for students upfront, thus reducing the number of frustrated students who left the free trial because they didn't have enough time—without significantly reducing the number of students to continue past the free trial and eventually complete the course."
   ]
  },
  {
   "cell_type": "markdown",
   "metadata": {},
   "source": [
    "## II. Experient set up"
   ]
  },
  {
   "cell_type": "markdown",
   "metadata": {},
   "source": [
    "### 1. Unit of diversion"
   ]
  },
  {
   "cell_type": "markdown",
   "metadata": {},
   "source": [
    "Before the students enroll in the free trial, the unit of diversion is \"cookie\". Afterwards, they are tracked by user-ids. The same user-id cannot enroll in the free trial twice. For users that do not enroll, their user-ids are not tracked in the experiment, even if they were signed in when they visited the course overview page."
   ]
  },
  {
   "cell_type": "markdown",
   "metadata": {},
   "source": [
    "### 2. Funnel for Enrollment"
   ]
  },
  {
   "cell_type": "markdown",
   "metadata": {},
   "source": [
    "The plot below visualizes the whole enrollment process using \"funnel\". The black funnel on the left-hand side represents the process before the change, whereas the right green funnel shows the process with new feature added. Potential metrics to measure are labeled in the plot as well.\n",
    "<br/>\n",
    "![title](UdacityFunel.jpg)"
   ]
  },
  {
   "cell_type": "markdown",
   "metadata": {},
   "source": [
    "**Potential metrics to use and the minimum effect size to be considered relevant for business (dmin):**\n",
    "1. Number of cookies: C - number of unique cookies to view the course overview page. (dmin=3000)\n",
    "2. Number of user-ids: ID - number of users who enroll in the free trial. (dmin=50)\n",
    "3. Number of clicks: CL - number of unique cookies to click the \"Start free trial\" button (which happens before the free trial screener is trigger). (dmin=240)\n",
    "3. Click-through-probability: CTP = CL/C - number of unique cookies to click the \"Start free trial\" button divided by number of unique cookies to view the course overview page. (dmin=0.01)\n",
    "4. Gross conversion: GC - number of user-ids to complete checkout and enroll in the free trial divided by number of unique cookies to click the \"Start free trial\" button. (dmin= 0.01)\n",
    "5. Retention: R = CL/Payments - number of user-ids to remain enrolled past the 14-day boundary (and thus make at least one payment) divided by number of user-ids to complete checkout. (dmin=0.01)\n",
    "6. Net conversion: NC = Enrollments/CL - number of user-ids to remain enrolled past the 14-day boundary (and thus make at least one payment) divided by the number of unique cookies to click the \"Start free trial\" button. (dmin= 0.0075)"
   ]
  },
  {
   "cell_type": "markdown",
   "metadata": {},
   "source": [
    "### 3. Possible Hypotheses for the Experiment"
   ]
  },
  {
   "cell_type": "markdown",
   "metadata": {},
   "source": [
    "Before we choose metrics to evaluate the experiment, we should firstly think of the hypothesis we want to test.\n",
    "<br/>\n",
    "I set up 3 groups of hypothesis that could be tested with the given data.I will further discuss the final hypotheses chosen for testing in III-3.\n",
    "<br/>\n",
    "- Group A: about the new feature's effect towards the number of people enrolled in free trial\n",
    "    - H0: GC(experiment) = GC(control)\n",
    "    - H1: GC(experiment) ≠ GC(control)\n",
    "<br/>\n",
    "- Group B: about the new features' effect towards the number of people make payments\n",
    "    - H0: NC(experiment) = NC(control)\n",
    "    - H1: NC(experiment) ≠ NC(control)\n",
    "<br/>\n",
    "- Group C: about the new feature's effect towards the number of people who make payments after free trial\n",
    "    - H0: R(experiment) = R(control)\n",
    "    - H1: R(experiment) ≠ R(control)"
   ]
  },
  {
   "cell_type": "markdown",
   "metadata": {},
   "source": [
    "### 4. Metrics"
   ]
  },
  {
   "cell_type": "markdown",
   "metadata": {},
   "source": [
    "**Evaluation Metrics:**\n",
    "<br/>\n",
    "For evaluation metrics, we want them to be sentitive enough to capture changes we want to test, and meanwhile be robust enough so that they will not be affected by factors that are not revelant.\n",
    "<br/>\n",
    "Given the context of this experiment and the hypotheses, I choose the following 3 metrics as evaluation metrics:\n",
    "- Gross Conversion rate (GC): we should expect a decrease in GC, since we want to use the new feature to filter out student that are not likely to invest enough time in the course. In this case, fewer students will enroll in free trial given that part of them are recommended to access the materials without enrollment.\n",
    "<br/>\n",
    "- Retention rate (R): retention should increase because students that tend to churn (those who cannot study for enough time) are likely to be filtered out before enrollment.\n",
    "<br/>\n",
    "- Net Conversion rate (NC):this ratio is nothing but the product of the above two metrics. From the business perspective, we want this ratio to increase."
   ]
  },
  {
   "cell_type": "markdown",
   "metadata": {},
   "source": [
    "**Invariant Metrics:**\n",
    "<br/>\n",
    "Invariant metrics should be the ones that stay unchanged between the treatment and control group. We can use them to assure the experiment is setup properly through performing sanity check for the result.\n",
    "<br/>\n",
    "Theoretically, the following 3 metrics should be independent from the change between the experiment and control group.\n",
    "<br/>\n",
    "- Number of cookies: C\n",
    "- Number of clicks: CL\n",
    "- Click-through-probability: CL/C"
   ]
  },
  {
   "cell_type": "markdown",
   "metadata": {},
   "source": [
    "## III. Experiment"
   ]
  },
  {
   "cell_type": "code",
   "execution_count": 1,
   "metadata": {},
   "outputs": [],
   "source": [
    "# Import all the packages needed\n",
    "import pandas as pd\n",
    "import numpy as np\n",
    "from scipy import stats\n",
    "from statsmodels.stats.proportion import proportions_ztest\n",
    "pd.set_option('display.float_format', lambda x: '%.4f' % x)"
   ]
  },
  {
   "cell_type": "markdown",
   "metadata": {},
   "source": [
    "### 1. Measuring Variability for Baseline Values"
   ]
  },
  {
   "cell_type": "markdown",
   "metadata": {},
   "source": [
    "The baseline values for metrics mentioned above are provided and stored in the dataframe below."
   ]
  },
  {
   "cell_type": "code",
   "execution_count": 2,
   "metadata": {},
   "outputs": [
    {
     "data": {
      "text/html": [
       "<div>\n",
       "<style scoped>\n",
       "    .dataframe tbody tr th:only-of-type {\n",
       "        vertical-align: middle;\n",
       "    }\n",
       "\n",
       "    .dataframe tbody tr th {\n",
       "        vertical-align: top;\n",
       "    }\n",
       "\n",
       "    .dataframe thead th {\n",
       "        text-align: right;\n",
       "    }\n",
       "</style>\n",
       "<table border=\"1\" class=\"dataframe\">\n",
       "  <thead>\n",
       "    <tr style=\"text-align: right;\">\n",
       "      <th></th>\n",
       "      <th>Metric</th>\n",
       "      <th>Estimator</th>\n",
       "      <th>dmin</th>\n",
       "    </tr>\n",
       "  </thead>\n",
       "  <tbody>\n",
       "    <tr>\n",
       "      <th>C</th>\n",
       "      <td>C</td>\n",
       "      <td>40000.0000</td>\n",
       "      <td>3000.0000</td>\n",
       "    </tr>\n",
       "    <tr>\n",
       "      <th>CL</th>\n",
       "      <td>CL</td>\n",
       "      <td>3200.0000</td>\n",
       "      <td>240.0000</td>\n",
       "    </tr>\n",
       "    <tr>\n",
       "      <th>ID</th>\n",
       "      <td>ID</td>\n",
       "      <td>660.0000</td>\n",
       "      <td>-50.0000</td>\n",
       "    </tr>\n",
       "    <tr>\n",
       "      <th>CTP</th>\n",
       "      <td>CTP</td>\n",
       "      <td>0.0800</td>\n",
       "      <td>0.0100</td>\n",
       "    </tr>\n",
       "    <tr>\n",
       "      <th>GC</th>\n",
       "      <td>GC</td>\n",
       "      <td>0.2062</td>\n",
       "      <td>-0.0100</td>\n",
       "    </tr>\n",
       "    <tr>\n",
       "      <th>R</th>\n",
       "      <td>R</td>\n",
       "      <td>0.5300</td>\n",
       "      <td>0.0100</td>\n",
       "    </tr>\n",
       "    <tr>\n",
       "      <th>NC</th>\n",
       "      <td>NC</td>\n",
       "      <td>0.1093</td>\n",
       "      <td>0.0075</td>\n",
       "    </tr>\n",
       "  </tbody>\n",
       "</table>\n",
       "</div>"
      ],
      "text/plain": [
       "    Metric  Estimator      dmin\n",
       "C        C 40000.0000 3000.0000\n",
       "CL      CL  3200.0000  240.0000\n",
       "ID      ID   660.0000  -50.0000\n",
       "CTP    CTP     0.0800    0.0100\n",
       "GC      GC     0.2062   -0.0100\n",
       "R        R     0.5300    0.0100\n",
       "NC      NC     0.1093    0.0075"
      ]
     },
     "execution_count": 2,
     "metadata": {},
     "output_type": "execute_result"
    }
   ],
   "source": [
    "# Storing baseline data\n",
    "baseline_data = {\"Metric\": [\"C\", \"CL\", \"ID\", \"CTP\", \"GC\", \"R\", \"NC\"], \n",
    "                 \"Estimator\": [40000, 3200, 660, 0.08, 0.20625, 0.53, 0.109313],\n",
    "                 \"dmin\": [3000, 240, -50, 0.01, -0.01, 0.01, 0.0075]}\n",
    "df = pd.DataFrame(data=baseline_data, index = [\"C\", \"CL\", \"ID\", \"CTP\", \"GC\", \"R\", \"NC\"])\n",
    "df"
   ]
  },
  {
   "cell_type": "markdown",
   "metadata": {},
   "source": [
    "The sample size given is 5000 cookies. In this case, we first need to scale the baseline data, including number of cookies, number of clicks and number of user-ids."
   ]
  },
  {
   "cell_type": "code",
   "execution_count": 3,
   "metadata": {},
   "outputs": [
    {
     "data": {
      "text/html": [
       "<div>\n",
       "<style scoped>\n",
       "    .dataframe tbody tr th:only-of-type {\n",
       "        vertical-align: middle;\n",
       "    }\n",
       "\n",
       "    .dataframe tbody tr th {\n",
       "        vertical-align: top;\n",
       "    }\n",
       "\n",
       "    .dataframe thead th {\n",
       "        text-align: right;\n",
       "    }\n",
       "</style>\n",
       "<table border=\"1\" class=\"dataframe\">\n",
       "  <thead>\n",
       "    <tr style=\"text-align: right;\">\n",
       "      <th></th>\n",
       "      <th>Metric</th>\n",
       "      <th>Estimator</th>\n",
       "      <th>dmin</th>\n",
       "      <th>ScaledEst</th>\n",
       "    </tr>\n",
       "  </thead>\n",
       "  <tbody>\n",
       "    <tr>\n",
       "      <th>C</th>\n",
       "      <td>C</td>\n",
       "      <td>40000.0000</td>\n",
       "      <td>3000.0000</td>\n",
       "      <td>5000.0000</td>\n",
       "    </tr>\n",
       "    <tr>\n",
       "      <th>CL</th>\n",
       "      <td>CL</td>\n",
       "      <td>3200.0000</td>\n",
       "      <td>240.0000</td>\n",
       "      <td>400.0000</td>\n",
       "    </tr>\n",
       "    <tr>\n",
       "      <th>ID</th>\n",
       "      <td>ID</td>\n",
       "      <td>660.0000</td>\n",
       "      <td>-50.0000</td>\n",
       "      <td>82.5000</td>\n",
       "    </tr>\n",
       "    <tr>\n",
       "      <th>CTP</th>\n",
       "      <td>CTP</td>\n",
       "      <td>0.0800</td>\n",
       "      <td>0.0100</td>\n",
       "      <td>nan</td>\n",
       "    </tr>\n",
       "    <tr>\n",
       "      <th>GC</th>\n",
       "      <td>GC</td>\n",
       "      <td>0.2062</td>\n",
       "      <td>-0.0100</td>\n",
       "      <td>nan</td>\n",
       "    </tr>\n",
       "    <tr>\n",
       "      <th>R</th>\n",
       "      <td>R</td>\n",
       "      <td>0.5300</td>\n",
       "      <td>0.0100</td>\n",
       "      <td>nan</td>\n",
       "    </tr>\n",
       "    <tr>\n",
       "      <th>NC</th>\n",
       "      <td>NC</td>\n",
       "      <td>0.1093</td>\n",
       "      <td>0.0075</td>\n",
       "      <td>nan</td>\n",
       "    </tr>\n",
       "  </tbody>\n",
       "</table>\n",
       "</div>"
      ],
      "text/plain": [
       "    Metric  Estimator      dmin  ScaledEst\n",
       "C        C 40000.0000 3000.0000  5000.0000\n",
       "CL      CL  3200.0000  240.0000   400.0000\n",
       "ID      ID   660.0000  -50.0000    82.5000\n",
       "CTP    CTP     0.0800    0.0100        nan\n",
       "GC      GC     0.2062   -0.0100        nan\n",
       "R        R     0.5300    0.0100        nan\n",
       "NC      NC     0.1093    0.0075        nan"
      ]
     },
     "execution_count": 3,
     "metadata": {},
     "output_type": "execute_result"
    }
   ],
   "source": [
    "# Calculate the scaling factor according to the number of cookies\n",
    "scale_factor = 5000 / df.loc['C']['Estimator']\n",
    "\n",
    "# Create a new column for scaled estimators\n",
    "df['ScaledEst'] = np.nan\n",
    "\n",
    "# Scale count metrics\n",
    "for m in ['C', 'CL', 'ID']:\n",
    "    df.at[m, 'ScaledEst'] = df.loc[m]['Estimator'] * scale_factor\n",
    "\n",
    "df"
   ]
  },
  {
   "cell_type": "markdown",
   "metadata": {},
   "source": [
    "**Assumptions and Computation:**\n",
    "<br/>\n",
    "We can assume that the distribution of our three chosen evaluation metric follows binomial distribution. Also, we know that the unit of analysis (demoniator) for each metric is the same as the unit of diversion (CL for GC and NC, ID for R). (Details about why the difference in unit of diversion and unit of analysis affects the calculation of variability can be found [here](http://static.googleusercontent.com/media/research.google.com/en/us/pubs/archive/36500.pdf).)Given the two facts, we can calculate the standard error for each metric analytically, using the formula: $\\sqrt{\\frac{\\hat{p}\\times (1 - \\hat{p})}{n}}$\n",
    "Precisely, here the standard error is an estimate of how far the sample proportion is likely to be from the population proportion.\n",
    "<br/>\n",
    "Due to the Central Limit Theorem, as sample size is relatively large in each case, we can assume that the sampling distribution of a sample proportion approaches a normal distribution. "
   ]
  },
  {
   "cell_type": "code",
   "execution_count": 4,
   "metadata": {},
   "outputs": [
    {
     "data": {
      "text/html": [
       "<div>\n",
       "<style scoped>\n",
       "    .dataframe tbody tr th:only-of-type {\n",
       "        vertical-align: middle;\n",
       "    }\n",
       "\n",
       "    .dataframe tbody tr th {\n",
       "        vertical-align: top;\n",
       "    }\n",
       "\n",
       "    .dataframe thead th {\n",
       "        text-align: right;\n",
       "    }\n",
       "</style>\n",
       "<table border=\"1\" class=\"dataframe\">\n",
       "  <thead>\n",
       "    <tr style=\"text-align: right;\">\n",
       "      <th></th>\n",
       "      <th>Metric</th>\n",
       "      <th>Estimator</th>\n",
       "      <th>dmin</th>\n",
       "      <th>ScaledEst</th>\n",
       "      <th>SE</th>\n",
       "    </tr>\n",
       "  </thead>\n",
       "  <tbody>\n",
       "    <tr>\n",
       "      <th>C</th>\n",
       "      <td>C</td>\n",
       "      <td>40000.0000</td>\n",
       "      <td>3000.0000</td>\n",
       "      <td>5000.0000</td>\n",
       "      <td>nan</td>\n",
       "    </tr>\n",
       "    <tr>\n",
       "      <th>CL</th>\n",
       "      <td>CL</td>\n",
       "      <td>3200.0000</td>\n",
       "      <td>240.0000</td>\n",
       "      <td>400.0000</td>\n",
       "      <td>nan</td>\n",
       "    </tr>\n",
       "    <tr>\n",
       "      <th>ID</th>\n",
       "      <td>ID</td>\n",
       "      <td>660.0000</td>\n",
       "      <td>-50.0000</td>\n",
       "      <td>82.5000</td>\n",
       "      <td>nan</td>\n",
       "    </tr>\n",
       "    <tr>\n",
       "      <th>CTP</th>\n",
       "      <td>CTP</td>\n",
       "      <td>0.0800</td>\n",
       "      <td>0.0100</td>\n",
       "      <td>nan</td>\n",
       "      <td>nan</td>\n",
       "    </tr>\n",
       "    <tr>\n",
       "      <th>GC</th>\n",
       "      <td>GC</td>\n",
       "      <td>0.2062</td>\n",
       "      <td>-0.0100</td>\n",
       "      <td>nan</td>\n",
       "      <td>0.0202</td>\n",
       "    </tr>\n",
       "    <tr>\n",
       "      <th>R</th>\n",
       "      <td>R</td>\n",
       "      <td>0.5300</td>\n",
       "      <td>0.0100</td>\n",
       "      <td>nan</td>\n",
       "      <td>0.0549</td>\n",
       "    </tr>\n",
       "    <tr>\n",
       "      <th>NC</th>\n",
       "      <td>NC</td>\n",
       "      <td>0.1093</td>\n",
       "      <td>0.0075</td>\n",
       "      <td>nan</td>\n",
       "      <td>0.0156</td>\n",
       "    </tr>\n",
       "  </tbody>\n",
       "</table>\n",
       "</div>"
      ],
      "text/plain": [
       "    Metric  Estimator      dmin  ScaledEst     SE\n",
       "C        C 40000.0000 3000.0000  5000.0000    nan\n",
       "CL      CL  3200.0000  240.0000   400.0000    nan\n",
       "ID      ID   660.0000  -50.0000    82.5000    nan\n",
       "CTP    CTP     0.0800    0.0100        nan    nan\n",
       "GC      GC     0.2062   -0.0100        nan 0.0202\n",
       "R        R     0.5300    0.0100        nan 0.0549\n",
       "NC      NC     0.1093    0.0075        nan 0.0156"
      ]
     },
     "execution_count": 4,
     "metadata": {},
     "output_type": "execute_result"
    }
   ],
   "source": [
    "# Create a new column to store standard errors\n",
    "df[\"SE\"] = np.nan\n",
    "\n",
    "# Define function to calculate standard deviation\n",
    "def standardError (n, p):\n",
    "    '''p = probability, n = sample size'''\n",
    "    '''Return the standard deviation'''\n",
    "    return (p*(1-p)/n)**0.5\n",
    "\n",
    "# Calculating standard errors for evaluation metrics\n",
    "for m in ['GC', 'NC']:\n",
    "    df.at[m, 'SE'] = standardError(df.loc['CL']['ScaledEst'], df.loc[m]['Estimator']) \n",
    "    \n",
    "df.at['R', 'SE'] = standardError(df.loc['ID']['ScaledEst'], df.loc['R']['Estimator'])\n",
    "df"
   ]
  },
  {
   "cell_type": "markdown",
   "metadata": {},
   "source": [
    "### 2. Determine Sample Size for Experiment"
   ]
  },
  {
   "cell_type": "markdown",
   "metadata": {},
   "source": [
    "Set alpha level to 0.05, and statistical power to 0.80 (beta = 0.20). <br/>\n",
    "The required sample size is calculated using the online sample size calculators by [Evan Miller](https://www.evanmiller.org/ab-testing/sample-size.html). Keep in mind that the result is the sample size **per group**.Therefore, we multiple the result by 2, since we have one group of control and another for experiment, to get the total sample size required.<br/>\n",
    "Further, we want to calculate the experiment sample size in terms of cookies that visit the page. Thus, we also need to account for the circumstance that our evaluation metrics, clicks and user-ids, respectively.<br/>\n",
    "Hence, total sample size for GC and NC is $\\frac{n}{CTP}\\times{2}$, for R is $\\frac{\\frac{n}{CTP}}{GC}\\times{2}$"
   ]
  },
  {
   "cell_type": "code",
   "execution_count": 5,
   "metadata": {},
   "outputs": [
    {
     "data": {
      "text/html": [
       "<div>\n",
       "<style scoped>\n",
       "    .dataframe tbody tr th:only-of-type {\n",
       "        vertical-align: middle;\n",
       "    }\n",
       "\n",
       "    .dataframe tbody tr th {\n",
       "        vertical-align: top;\n",
       "    }\n",
       "\n",
       "    .dataframe thead th {\n",
       "        text-align: right;\n",
       "    }\n",
       "</style>\n",
       "<table border=\"1\" class=\"dataframe\">\n",
       "  <thead>\n",
       "    <tr style=\"text-align: right;\">\n",
       "      <th></th>\n",
       "      <th>Metric</th>\n",
       "      <th>Estimator</th>\n",
       "      <th>dmin</th>\n",
       "      <th>ScaledEst</th>\n",
       "      <th>SE</th>\n",
       "      <th>total_n</th>\n",
       "    </tr>\n",
       "  </thead>\n",
       "  <tbody>\n",
       "    <tr>\n",
       "      <th>C</th>\n",
       "      <td>C</td>\n",
       "      <td>40000.0000</td>\n",
       "      <td>3000.0000</td>\n",
       "      <td>5000.0000</td>\n",
       "      <td>nan</td>\n",
       "      <td>nan</td>\n",
       "    </tr>\n",
       "    <tr>\n",
       "      <th>CL</th>\n",
       "      <td>CL</td>\n",
       "      <td>3200.0000</td>\n",
       "      <td>240.0000</td>\n",
       "      <td>400.0000</td>\n",
       "      <td>nan</td>\n",
       "      <td>nan</td>\n",
       "    </tr>\n",
       "    <tr>\n",
       "      <th>ID</th>\n",
       "      <td>ID</td>\n",
       "      <td>660.0000</td>\n",
       "      <td>-50.0000</td>\n",
       "      <td>82.5000</td>\n",
       "      <td>nan</td>\n",
       "      <td>nan</td>\n",
       "    </tr>\n",
       "    <tr>\n",
       "      <th>CTP</th>\n",
       "      <td>CTP</td>\n",
       "      <td>0.0800</td>\n",
       "      <td>0.0100</td>\n",
       "      <td>nan</td>\n",
       "      <td>nan</td>\n",
       "      <td>nan</td>\n",
       "    </tr>\n",
       "    <tr>\n",
       "      <th>GC</th>\n",
       "      <td>GC</td>\n",
       "      <td>0.2062</td>\n",
       "      <td>-0.0100</td>\n",
       "      <td>nan</td>\n",
       "      <td>0.0202</td>\n",
       "      <td>645750.0000</td>\n",
       "    </tr>\n",
       "    <tr>\n",
       "      <th>R</th>\n",
       "      <td>R</td>\n",
       "      <td>0.5300</td>\n",
       "      <td>0.0100</td>\n",
       "      <td>nan</td>\n",
       "      <td>0.0549</td>\n",
       "      <td>4740063.0000</td>\n",
       "    </tr>\n",
       "    <tr>\n",
       "      <th>NC</th>\n",
       "      <td>NC</td>\n",
       "      <td>0.1093</td>\n",
       "      <td>0.0075</td>\n",
       "      <td>nan</td>\n",
       "      <td>0.0156</td>\n",
       "      <td>685275.0000</td>\n",
       "    </tr>\n",
       "  </tbody>\n",
       "</table>\n",
       "</div>"
      ],
      "text/plain": [
       "    Metric  Estimator      dmin  ScaledEst     SE      total_n\n",
       "C        C 40000.0000 3000.0000  5000.0000    nan          nan\n",
       "CL      CL  3200.0000  240.0000   400.0000    nan          nan\n",
       "ID      ID   660.0000  -50.0000    82.5000    nan          nan\n",
       "CTP    CTP     0.0800    0.0100        nan    nan          nan\n",
       "GC      GC     0.2062   -0.0100        nan 0.0202  645750.0000\n",
       "R        R     0.5300    0.0100        nan 0.0549 4740063.0000\n",
       "NC      NC     0.1093    0.0075        nan 0.0156  685275.0000"
      ]
     },
     "execution_count": 5,
     "metadata": {},
     "output_type": "execute_result"
    }
   ],
   "source": [
    "# Store the results\n",
    "df['total_n'] = np.nan\n",
    "df.at['GC', 'total_n'] = round(25830 / 0.08 * 2)\n",
    "df.at['NC', 'total_n'] = round(27411 / 0.08 * 2)\n",
    "df.at['R', 'total_n'] = round(39115 / 0.08 / 0.2063 * 2)\n",
    "\n",
    "df"
   ]
  },
  {
   "cell_type": "markdown",
   "metadata": {},
   "source": [
    "Given our calculations, we would need around 645,750 pageviews (cookies) to test the hypothesis in Group A and a total of 685,275 pageviews for Group B. If we want to test Group C, we will need 4,740,063 pageviews to conduct the experiment!"
   ]
  },
  {
   "cell_type": "markdown",
   "metadata": {},
   "source": [
    "### 3. Experiment Duration"
   ]
  },
  {
   "cell_type": "markdown",
   "metadata": {},
   "source": [
    "According to the description, we can assume that there's no other experiment running at the same time and that the traffic can be diverted to our experiment at 100%. Let's first calculate the time we need to gather enough sample (the experiment duration) if we are able to use a traffic divertion rate of 100%."
   ]
  },
  {
   "cell_type": "code",
   "execution_count": 6,
   "metadata": {},
   "outputs": [
    {
     "name": "stdout",
     "output_type": "stream",
     "text": [
      "Days required for GC: 16\n",
      "Days required for GC & NC: 17\n",
      "Days required for GC & NC & R: 119\n"
     ]
    }
   ],
   "source": [
    "# Traffic diverted to the experiment: [0:1]\n",
    "traffic_divertion = 1\n",
    "\n",
    "# Days it will take to test Group A Hypothesis\n",
    "days_GC = round(df.loc['GC']['total_n'] / \n",
    "                (df.loc['C']['Estimator']*traffic_divertion))\n",
    "print(f'Days required for GC: {days_GC}')\n",
    "\n",
    "# Days it will take to test Group A & Group B Hypotheses\n",
    "days_GC_NC = round(df.loc['NC']['total_n'] / \n",
    "                   (df.loc['C']['Estimator']*traffic_divertion))\n",
    "print(f'Days required for GC & NC: {days_GC_NC}')\n",
    "\n",
    "# Days it will take to test Group A & Group B & Group C Hypothesis\n",
    "days_GC_NC_R = round(df.loc['R']['total_n'] / \n",
    "                     (df.loc['C']['Estimator']*traffic_divertion))\n",
    "print(f'Days required for GC & NC & R: {days_GC_NC_R}')"
   ]
  },
  {
   "cell_type": "markdown",
   "metadata": {},
   "source": [
    "To test the first 2 groups of hypothesis, we only need about 17 days, which seems acceptable. However, if we include the last hypothesis in Group C, we will need to run the experiment for 119 days! Such a long duration is risky because we're not sure if the treatment will hurt users during such a long time and result in loss for the business. <br/>\n",
    "Also, recall that the retention rate is nothing but the ration between Net and Gross Conversion rate, we can have a pretty accurate estimte of R using the result in the first 2 metrics.<br/>\n",
    "In this case, it's reasonable to use only GC and NC as evalutation metrics."
   ]
  },
  {
   "cell_type": "markdown",
   "metadata": {},
   "source": [
    "Then, the next question would be: how much traffic should we divert to the experiment? Well, the change involved doesn't look very bold, so maybe it's safe for us to have high traffic divertion rate, which also enable us to finish the test within a short period of time. <br/>\n",
    "Looking back at the dataset provided by Udacity, it in fact used 37 days to collect 690203 pageviews. But pay attention, we also need to wait for 14 days for user to finish their free trial. Therefore, only 23 days(23+14 = 37) are taken to collect enough data to reflect the whole enrollment process. So, the traffic divertion is approximately 74%.<br/>\n",
    "Now, let's adjust this divertion rate to re-calculate the experiment duration."
   ]
  },
  {
   "cell_type": "code",
   "execution_count": 7,
   "metadata": {},
   "outputs": [
    {
     "name": "stdout",
     "output_type": "stream",
     "text": [
      "Days required for GC: 22\n",
      "Days required for GC & NC: 23\n",
      "Days required for GC & NC & R: 160\n"
     ]
    }
   ],
   "source": [
    "# Traffic diverted to the experiment: [0:1]\n",
    "traffic_divertion = 0.74\n",
    "\n",
    "# Days it will take to test Group A Hypothesis\n",
    "days_GC = round(df.loc['GC']['total_n'] / \n",
    "                (df.loc['C']['Estimator']*traffic_divertion))\n",
    "print(f'Days required for GC: {days_GC}')\n",
    "\n",
    "# Days it will take to test Group A & Group B Hypotheses\n",
    "days_GC_NC = round(df.loc['NC']['total_n'] / \n",
    "                   (df.loc['C']['Estimator']*traffic_divertion))\n",
    "print(f'Days required for GC & NC: {days_GC_NC}')\n",
    "\n",
    "# Days it will take to test Group A & Group B & Group C Hypothesis\n",
    "days_GC_NC_R = round(df.loc['R']['total_n'] / \n",
    "                     (df.loc['C']['Estimator']*traffic_divertion))\n",
    "print(f'Days required for GC & NC & R: {days_GC_NC_R}')"
   ]
  },
  {
   "cell_type": "markdown",
   "metadata": {},
   "source": [
    "### 4. Data Analysis"
   ]
  },
  {
   "cell_type": "code",
   "execution_count": 8,
   "metadata": {},
   "outputs": [],
   "source": [
    "# Load experiment data\n",
    "control = pd.read_csv(\"Final Project Results - Control.csv\") \n",
    "experiment = pd.read_csv(\"Final Project Results - Experiment.csv\")"
   ]
  },
  {
   "cell_type": "code",
   "execution_count": 9,
   "metadata": {},
   "outputs": [
    {
     "name": "stdout",
     "output_type": "stream",
     "text": [
      "       Pageviews   Clicks  Enrollments  Payments\n",
      "count    37.0000  37.0000      23.0000   23.0000\n",
      "mean   9339.0000 766.9730     164.5652   88.3913\n",
      "std     740.2396  68.2868      29.9770   20.6502\n",
      "min    7434.0000 632.0000     110.0000   56.0000\n",
      "25%    8896.0000 708.0000     146.5000   70.0000\n",
      "50%    9420.0000 759.0000     162.0000   91.0000\n",
      "75%    9871.0000 825.0000     175.0000  102.5000\n",
      "max   10667.0000 909.0000     233.0000  128.0000\n"
     ]
    },
    {
     "data": {
      "text/html": [
       "<div>\n",
       "<style scoped>\n",
       "    .dataframe tbody tr th:only-of-type {\n",
       "        vertical-align: middle;\n",
       "    }\n",
       "\n",
       "    .dataframe tbody tr th {\n",
       "        vertical-align: top;\n",
       "    }\n",
       "\n",
       "    .dataframe thead th {\n",
       "        text-align: right;\n",
       "    }\n",
       "</style>\n",
       "<table border=\"1\" class=\"dataframe\">\n",
       "  <thead>\n",
       "    <tr style=\"text-align: right;\">\n",
       "      <th></th>\n",
       "      <th>Date</th>\n",
       "      <th>Pageviews</th>\n",
       "      <th>Clicks</th>\n",
       "      <th>Enrollments</th>\n",
       "      <th>Payments</th>\n",
       "    </tr>\n",
       "  </thead>\n",
       "  <tbody>\n",
       "    <tr>\n",
       "      <th>0</th>\n",
       "      <td>Sat, Oct 11</td>\n",
       "      <td>7723</td>\n",
       "      <td>687</td>\n",
       "      <td>134.0000</td>\n",
       "      <td>70.0000</td>\n",
       "    </tr>\n",
       "    <tr>\n",
       "      <th>1</th>\n",
       "      <td>Sun, Oct 12</td>\n",
       "      <td>9102</td>\n",
       "      <td>779</td>\n",
       "      <td>147.0000</td>\n",
       "      <td>70.0000</td>\n",
       "    </tr>\n",
       "    <tr>\n",
       "      <th>2</th>\n",
       "      <td>Mon, Oct 13</td>\n",
       "      <td>10511</td>\n",
       "      <td>909</td>\n",
       "      <td>167.0000</td>\n",
       "      <td>95.0000</td>\n",
       "    </tr>\n",
       "    <tr>\n",
       "      <th>3</th>\n",
       "      <td>Tue, Oct 14</td>\n",
       "      <td>9871</td>\n",
       "      <td>836</td>\n",
       "      <td>156.0000</td>\n",
       "      <td>105.0000</td>\n",
       "    </tr>\n",
       "    <tr>\n",
       "      <th>4</th>\n",
       "      <td>Wed, Oct 15</td>\n",
       "      <td>10014</td>\n",
       "      <td>837</td>\n",
       "      <td>163.0000</td>\n",
       "      <td>64.0000</td>\n",
       "    </tr>\n",
       "  </tbody>\n",
       "</table>\n",
       "</div>"
      ],
      "text/plain": [
       "          Date  Pageviews  Clicks  Enrollments  Payments\n",
       "0  Sat, Oct 11       7723     687     134.0000   70.0000\n",
       "1  Sun, Oct 12       9102     779     147.0000   70.0000\n",
       "2  Mon, Oct 13      10511     909     167.0000   95.0000\n",
       "3  Tue, Oct 14       9871     836     156.0000  105.0000\n",
       "4  Wed, Oct 15      10014     837     163.0000   64.0000"
      ]
     },
     "execution_count": 9,
     "metadata": {},
     "output_type": "execute_result"
    }
   ],
   "source": [
    "print(control.describe())\n",
    "control.head()"
   ]
  },
  {
   "cell_type": "code",
   "execution_count": 10,
   "metadata": {},
   "outputs": [
    {
     "name": "stdout",
     "output_type": "stream",
     "text": [
      "       Pageviews   Clicks  Enrollments  Payments\n",
      "count    37.0000  37.0000      23.0000   23.0000\n",
      "mean   9315.1351 765.5405     148.8261   84.5652\n",
      "std     708.0708  64.5784      33.2342   23.0608\n",
      "min    7664.0000 642.0000      94.0000   34.0000\n",
      "25%    8881.0000 722.0000     127.0000   69.0000\n",
      "50%    9359.0000 770.0000     142.0000   91.0000\n",
      "75%    9737.0000 827.0000     172.0000   99.0000\n",
      "max   10551.0000 884.0000     213.0000  123.0000\n"
     ]
    },
    {
     "data": {
      "text/html": [
       "<div>\n",
       "<style scoped>\n",
       "    .dataframe tbody tr th:only-of-type {\n",
       "        vertical-align: middle;\n",
       "    }\n",
       "\n",
       "    .dataframe tbody tr th {\n",
       "        vertical-align: top;\n",
       "    }\n",
       "\n",
       "    .dataframe thead th {\n",
       "        text-align: right;\n",
       "    }\n",
       "</style>\n",
       "<table border=\"1\" class=\"dataframe\">\n",
       "  <thead>\n",
       "    <tr style=\"text-align: right;\">\n",
       "      <th></th>\n",
       "      <th>Date</th>\n",
       "      <th>Pageviews</th>\n",
       "      <th>Clicks</th>\n",
       "      <th>Enrollments</th>\n",
       "      <th>Payments</th>\n",
       "    </tr>\n",
       "  </thead>\n",
       "  <tbody>\n",
       "    <tr>\n",
       "      <th>0</th>\n",
       "      <td>Sat, Oct 11</td>\n",
       "      <td>7716</td>\n",
       "      <td>686</td>\n",
       "      <td>105.0000</td>\n",
       "      <td>34.0000</td>\n",
       "    </tr>\n",
       "    <tr>\n",
       "      <th>1</th>\n",
       "      <td>Sun, Oct 12</td>\n",
       "      <td>9288</td>\n",
       "      <td>785</td>\n",
       "      <td>116.0000</td>\n",
       "      <td>91.0000</td>\n",
       "    </tr>\n",
       "    <tr>\n",
       "      <th>2</th>\n",
       "      <td>Mon, Oct 13</td>\n",
       "      <td>10480</td>\n",
       "      <td>884</td>\n",
       "      <td>145.0000</td>\n",
       "      <td>79.0000</td>\n",
       "    </tr>\n",
       "    <tr>\n",
       "      <th>3</th>\n",
       "      <td>Tue, Oct 14</td>\n",
       "      <td>9867</td>\n",
       "      <td>827</td>\n",
       "      <td>138.0000</td>\n",
       "      <td>92.0000</td>\n",
       "    </tr>\n",
       "    <tr>\n",
       "      <th>4</th>\n",
       "      <td>Wed, Oct 15</td>\n",
       "      <td>9793</td>\n",
       "      <td>832</td>\n",
       "      <td>140.0000</td>\n",
       "      <td>94.0000</td>\n",
       "    </tr>\n",
       "  </tbody>\n",
       "</table>\n",
       "</div>"
      ],
      "text/plain": [
       "          Date  Pageviews  Clicks  Enrollments  Payments\n",
       "0  Sat, Oct 11       7716     686     105.0000   34.0000\n",
       "1  Sun, Oct 12       9288     785     116.0000   91.0000\n",
       "2  Mon, Oct 13      10480     884     145.0000   79.0000\n",
       "3  Tue, Oct 14       9867     827     138.0000   92.0000\n",
       "4  Wed, Oct 15       9793     832     140.0000   94.0000"
      ]
     },
     "execution_count": 10,
     "metadata": {},
     "output_type": "execute_result"
    }
   ],
   "source": [
    "print(experiment.describe())\n",
    "experiment.head()"
   ]
  },
  {
   "cell_type": "markdown",
   "metadata": {},
   "source": [
    "#### 1) Sanity Check"
   ]
  },
  {
   "cell_type": "markdown",
   "metadata": {},
   "source": [
    "To ensure the experiment is conducted propertly, we use the invariant variable chosen (C, CL, CTP) to do the sanity check. Theoretically, we should not see significant difference between the control and experiment group in these 3 metrics.<br/>\n",
    "For C and CL, observations should be randomly assign to either control or experiment group, so that the probability of being in the experiment group should be 50%. That is, $\\frac{observations in experiment group}{total observations} = 0.5$"
   ]
  },
  {
   "cell_type": "code",
   "execution_count": 11,
   "metadata": {},
   "outputs": [
    {
     "name": "stdout",
     "output_type": "stream",
     "text": [
      "C Yes\n",
      "CL Yes\n"
     ]
    },
    {
     "data": {
      "text/html": [
       "<div>\n",
       "<style scoped>\n",
       "    .dataframe tbody tr th:only-of-type {\n",
       "        vertical-align: middle;\n",
       "    }\n",
       "\n",
       "    .dataframe tbody tr th {\n",
       "        vertical-align: top;\n",
       "    }\n",
       "\n",
       "    .dataframe thead th {\n",
       "        text-align: right;\n",
       "    }\n",
       "</style>\n",
       "<table border=\"1\" class=\"dataframe\">\n",
       "  <thead>\n",
       "    <tr style=\"text-align: right;\">\n",
       "      <th></th>\n",
       "      <th>CI_left</th>\n",
       "      <th>CI_right</th>\n",
       "      <th>Ratio</th>\n",
       "      <th>Passed?</th>\n",
       "    </tr>\n",
       "  </thead>\n",
       "  <tbody>\n",
       "    <tr>\n",
       "      <th>C</th>\n",
       "      <td>0.4988</td>\n",
       "      <td>0.5012</td>\n",
       "      <td>0.4994</td>\n",
       "      <td>NaN</td>\n",
       "    </tr>\n",
       "    <tr>\n",
       "      <th>CL</th>\n",
       "      <td>0.4959</td>\n",
       "      <td>0.5041</td>\n",
       "      <td>0.4995</td>\n",
       "      <td>NaN</td>\n",
       "    </tr>\n",
       "    <tr>\n",
       "      <th>CTP</th>\n",
       "      <td>NaN</td>\n",
       "      <td>NaN</td>\n",
       "      <td>NaN</td>\n",
       "      <td>NaN</td>\n",
       "    </tr>\n",
       "  </tbody>\n",
       "</table>\n",
       "</div>"
      ],
      "text/plain": [
       "    CI_left CI_right  Ratio Passed?\n",
       "C    0.4988   0.5012 0.4994     NaN\n",
       "CL   0.4959   0.5041 0.4995     NaN\n",
       "CTP     NaN      NaN    NaN     NaN"
      ]
     },
     "execution_count": 11,
     "metadata": {},
     "output_type": "execute_result"
    }
   ],
   "source": [
    "# Build a dataframe for sanity check\n",
    "df_sanity = pd.DataFrame(columns = [\"CI_left\", \"CI_right\", \"Ratio\",\"Passed?\"], \n",
    "                         index = ['C', 'CL', 'CTP'])\n",
    "\n",
    "for i,j in zip([\"C\", \"CL\"], [\"Pageviews\", \"Clicks\"]):\n",
    "    # Calculate pageviews\n",
    "    n_experiment = experiment[j].sum()\n",
    "    n_total = control[j].sum() + experiment[j].sum()\n",
    "    \n",
    "    # Confidence interval\n",
    "    p = 0.5\n",
    "    alpha = 0.05\n",
    "    z_stat = stats.norm.ppf(1 - alpha/2)\n",
    "    se = standardError(n_total, p)\n",
    "    df_sanity.at[i, 'CI_left'] = p - z_stat*se\n",
    "    df_sanity.at[i, 'CI_right'] = p + z_stat*se\n",
    "    \n",
    "    # The observed ratio in experiment\n",
    "    ratio_obs = n_experiment / n_total\n",
    "    df_sanity.at[i, 'Ratio'] = ratio_obs\n",
    "    \n",
    "    # Check if the observed ratio lies within the confident interval\n",
    "    result = df_sanity.loc[i]['Ratio']\n",
    "    if df_sanity.loc[i]['CI_left'] <= result <= df_sanity.loc[i]['CI_right']:\n",
    "        print(i, 'Yes')\n",
    "    else:\n",
    "        print(i, 'No')\n",
    "\n",
    "df_sanity"
   ]
  },
  {
   "cell_type": "markdown",
   "metadata": {},
   "source": [
    "For CTP, we can conduct a two proportion Z-test using the ratio of number of clicks per pageview.Observed ratios in control and experiemnt group should not be significantlly different. Specifically, we assume that the two populations have normal distributions but not necessarily equal variances.<br/>\n",
    "This time, I will try another approach with Z-test function of normal distribution."
   ]
  },
  {
   "cell_type": "code",
   "execution_count": 12,
   "metadata": {},
   "outputs": [
    {
     "name": "stdout",
     "output_type": "stream",
     "text": [
      "Z-test-statistic:  -0.08566094109242048\n",
      "p-value: 0.9317359524473912\n"
     ]
    },
    {
     "data": {
      "text/html": [
       "<div>\n",
       "<style scoped>\n",
       "    .dataframe tbody tr th:only-of-type {\n",
       "        vertical-align: middle;\n",
       "    }\n",
       "\n",
       "    .dataframe tbody tr th {\n",
       "        vertical-align: top;\n",
       "    }\n",
       "\n",
       "    .dataframe thead th {\n",
       "        text-align: right;\n",
       "    }\n",
       "</style>\n",
       "<table border=\"1\" class=\"dataframe\">\n",
       "  <thead>\n",
       "    <tr style=\"text-align: right;\">\n",
       "      <th></th>\n",
       "      <th>CI_left</th>\n",
       "      <th>CI_right</th>\n",
       "      <th>Ratio</th>\n",
       "      <th>Passed?</th>\n",
       "    </tr>\n",
       "  </thead>\n",
       "  <tbody>\n",
       "    <tr>\n",
       "      <th>C</th>\n",
       "      <td>0.4988</td>\n",
       "      <td>0.5012</td>\n",
       "      <td>0.4994</td>\n",
       "      <td>NaN</td>\n",
       "    </tr>\n",
       "    <tr>\n",
       "      <th>CL</th>\n",
       "      <td>0.4959</td>\n",
       "      <td>0.5041</td>\n",
       "      <td>0.4995</td>\n",
       "      <td>NaN</td>\n",
       "    </tr>\n",
       "    <tr>\n",
       "      <th>CTP</th>\n",
       "      <td>NaN</td>\n",
       "      <td>NaN</td>\n",
       "      <td>NaN</td>\n",
       "      <td>Yes</td>\n",
       "    </tr>\n",
       "  </tbody>\n",
       "</table>\n",
       "</div>"
      ],
      "text/plain": [
       "    CI_left CI_right  Ratio Passed?\n",
       "C    0.4988   0.5012 0.4994     NaN\n",
       "CL   0.4959   0.5041 0.4995     NaN\n",
       "CTP     NaN      NaN    NaN     Yes"
      ]
     },
     "execution_count": 12,
     "metadata": {},
     "output_type": "execute_result"
    }
   ],
   "source": [
    "# Calculate the number of observations and counted clicks for each group and store results in numpy arraies\n",
    "n_pageviews = np.array([control[\"Pageviews\"].sum(), experiment[\"Pageviews\"].sum()])\n",
    "n_clicks = np.array([control[\"Clicks\"].sum(), experiment[\"Clicks\"].sum()])\n",
    "\n",
    "# Calculate the test-statistic Z and corresponding p_value\n",
    "z_statistic, p_value = proportions_ztest(n_clicks, n_pageviews, \n",
    "                                         value=0, alternative=\"two-sided\", \n",
    "                                         prop_var=False)\n",
    "\n",
    "print(\"Z-test-statistic: \", z_statistic)\n",
    "print(\"p-value:\" , p_value)\n",
    "\n",
    "alpha = 0.05\n",
    "if p_value > alpha:\n",
    "    df_sanity.at[\"CTP\", \"Passed?\"] = \"Yes\"\n",
    "else:\n",
    "    df_sanity.at[\"CTP\", \"Passed?\"] = \"No\"\n",
    "\n",
    "df_sanity"
   ]
  },
  {
   "cell_type": "markdown",
   "metadata": {},
   "source": [
    "**p-value > alpha=0.05, we cannot reject the null hypothesis that ratios in two groups are the same.**"
   ]
  },
  {
   "cell_type": "markdown",
   "metadata": {},
   "source": [
    "**Great! All invariant variables passed the sanity check.**"
   ]
  },
  {
   "cell_type": "markdown",
   "metadata": {},
   "source": [
    "#### 2) Test Analysis"
   ]
  },
  {
   "cell_type": "markdown",
   "metadata": {},
   "source": [
    "**Correction for multiple hypotheses?**\n",
    "<br/>\n",
    "Now we have more than one hypothesis, therefore the chance to get false positives increases. However, our metrics are not fully independent which is why the true probability for false positives will still be lower than 9.75% (the case for independent metrics: 1 - 0.95 * 0.95). We could use Bonferroni correction but then we could easily end up with more false negatives. Given that the increase for the probability for false positives is mild, I choose not to correct the alpha here."
   ]
  },
  {
   "cell_type": "code",
   "execution_count": 13,
   "metadata": {},
   "outputs": [
    {
     "data": {
      "text/html": [
       "<div>\n",
       "<style scoped>\n",
       "    .dataframe tbody tr th:only-of-type {\n",
       "        vertical-align: middle;\n",
       "    }\n",
       "\n",
       "    .dataframe tbody tr th {\n",
       "        vertical-align: top;\n",
       "    }\n",
       "\n",
       "    .dataframe thead th {\n",
       "        text-align: right;\n",
       "    }\n",
       "</style>\n",
       "<table border=\"1\" class=\"dataframe\">\n",
       "  <thead>\n",
       "    <tr style=\"text-align: right;\">\n",
       "      <th></th>\n",
       "      <th>CI_left</th>\n",
       "      <th>CI_right</th>\n",
       "      <th>Diff</th>\n",
       "      <th>SatSig?</th>\n",
       "      <th>dmin</th>\n",
       "      <th>Pract?</th>\n",
       "    </tr>\n",
       "  </thead>\n",
       "  <tbody>\n",
       "    <tr>\n",
       "      <th>GC</th>\n",
       "      <td>-0.0291</td>\n",
       "      <td>-0.0120</td>\n",
       "      <td>-0.0206</td>\n",
       "      <td>Yes</td>\n",
       "      <td>-0.0100</td>\n",
       "      <td>Yes</td>\n",
       "    </tr>\n",
       "    <tr>\n",
       "      <th>NC</th>\n",
       "      <td>-0.0116</td>\n",
       "      <td>0.0019</td>\n",
       "      <td>-0.0049</td>\n",
       "      <td>No</td>\n",
       "      <td>0.0075</td>\n",
       "      <td>No</td>\n",
       "    </tr>\n",
       "  </tbody>\n",
       "</table>\n",
       "</div>"
      ],
      "text/plain": [
       "   CI_left CI_right    Diff SatSig?    dmin Pract?\n",
       "GC -0.0291  -0.0120 -0.0206     Yes -0.0100    Yes\n",
       "NC -0.0116   0.0019 -0.0049      No  0.0075     No"
      ]
     },
     "execution_count": 13,
     "metadata": {},
     "output_type": "execute_result"
    }
   ],
   "source": [
    "# Create dataframe for test results\n",
    "df_test = pd.DataFrame(columns=[\"CI_left\", \"CI_right\", \n",
    "                                \"Diff\",\"SatSig?\", \"dmin\", \"Pract?\"], \n",
    "                       index=[\"GC\", \"NC\"])\n",
    "\n",
    "# Set alpha\n",
    "alpha = 0.05\n",
    "\n",
    "# Two proportion Z-test for both metrics\n",
    "for i,j in zip([\"Enrollments\", \"Payments\"],[\"GC\", \"NC\"]):\n",
    "    # Compute sample conversion rates\n",
    "    obs_control = control.iloc[:23][i].sum()/control.iloc[:23][\"Clicks\"].sum()\n",
    "    obs_experiment = experiment.iloc[:23][i].sum()/experiment.iloc[:23][\"Clicks\"].sum()\n",
    "    \n",
    "    # Compute observed difference between experiment and control conversion d\n",
    "    df_test.at[j, \"Diff\"] = obs_experiment - obs_control\n",
    "    \n",
    "    # Compute sample standard deviations\n",
    "    sd_control = (obs_control*(1 - obs_control))**0.5\n",
    "    sd_experiment = (obs_experiment*(1 - obs_experiment))**0.5\n",
    "    \n",
    "    # Compute standard error for the whole population\n",
    "    se_pooled = (sd_control**2/control.iloc[:23][\"Clicks\"].sum()\n",
    "                 +sd_experiment**2/experiment.iloc[:23][\"Clicks\"].sum())**0.5\n",
    "    \n",
    "    # Compute 95% confidence interval around observed difference d\n",
    "    df_test.at[j, \"CI_left\"] = df_test.at[j, \"Diff\"]-(\n",
    "        stats.norm.ppf(1-alpha/2)*se_pooled)\n",
    "    df_test.at[j, \"CI_right\"] = df_test.at[j, \"Diff\"]+(\n",
    "        stats.norm.ppf(1-alpha/2)*se_pooled)\n",
    "    \n",
    "    # Check statistical significance\n",
    "    if df_test.at[j, \"CI_left\"] <= 0 <= df_test.at[j, \"CI_right\"]:\n",
    "        df_test.at[j, \"SatSig?\"] = \"No\"\n",
    "    else:\n",
    "        df_test.at[j, \"SatSig?\"] = \"Yes\"\n",
    "    \n",
    "    #import dmin\n",
    "    df_test.at[j, \"dmin\"] = df.loc[j][\"dmin\"]\n",
    "    \n",
    "    \n",
    "    # Check if practical relevant\n",
    "    # Check if dmin is positive or negative\n",
    "    effect = df_test.at[j, \"dmin\"]\n",
    "    if effect >= 0:\n",
    "        # If d is larger than dmin and \n",
    "        # if dmin lies left of the confidence interval around d\n",
    "        if df_test.at[j, \"Diff\"] > effect and df_test.at[j, \"CI_left\"] > effect:\n",
    "                df_test.at[j, \"Pract?\"] = \"Yes\"\n",
    "        else:\n",
    "            df_test.at[j, \"Pract?\"] = \"No\"\n",
    "    else:\n",
    "        #check if d is smaller than dmin \n",
    "        # and if dmin lies right of the confidence interval around d\n",
    "        if df_test.at[j, \"Diff\"] < effect and effect > df_test.at[j, \"CI_right\"]:\n",
    "                df_test.at[j, \"Pract?\"] = \"Yes\"\n",
    "        else:\n",
    "            df_test.at[j, \"Pract?\"] = \"No\"\n",
    "\n",
    "#return results\n",
    "df_test"
   ]
  },
  {
   "cell_type": "markdown",
   "metadata": {},
   "source": [
    "### 5. Interpretation of Experiment Result"
   ]
  },
  {
   "cell_type": "markdown",
   "metadata": {},
   "source": [
    "We observe an decrease in Gross Conversion rate, which is both statistically significant and bigger than the minimum effect size to be considered meaningful for the business. It shows that the \"Free Trial Screener\" feature indeed filter out a few users by setting a clearer expectation for the students before they enroll in the course.<br/>\n",
    "However, we fail to reject the null hypothesis in Group B since the change in Net Conversion rate is neither statistically significant nor surpass the minimum practical effect size. That is, the decrease in percentage of users enrolled in free trial cannot be \"overly\" offset by higher Retention rate with students who are more likely to invest enough time during the learning process. In fact, we witness a slight decrease in this rate, whereas we set a positive dmin for NC, expecting the new feature can help us improve user experience without significantly reducing the number of students to continue past the free trial and eventually complete the course.Based on the data we have, we may even recommend Udacity not to launch this new feature if it aims to increase revenue gained through course payments. <br/>"
   ]
  },
  {
   "cell_type": "markdown",
   "metadata": {},
   "source": [
    "**Further thoughts...** <br/>\n",
    "The data collected appear in a quite short period of time. What will happen if Udacity chooses to add this new feature? The functionality of \"Free Trial Screener\" is pretty simple and it's reasonable to assume many users find it out and make unrealistic \"promise\" during the screener. If it happens, then it's possible to see a further decrease in the Retention rate which makes us hard to tell whether Net Conversion rate will decrease. <br/>\n",
    "But in a longer time period, if we assume a steady coversion rate of users who start with free accessable course materials then make payment, an increase in number of people start with free materials may also bring us higher Net Conversion rate. Unfortunately, we don't data in this experiment to test this effect."
   ]
  },
  {
   "cell_type": "code",
   "execution_count": null,
   "metadata": {},
   "outputs": [],
   "source": []
  }
 ],
 "metadata": {
  "kernelspec": {
   "display_name": "Python 3",
   "language": "python",
   "name": "python3"
  },
  "language_info": {
   "codemirror_mode": {
    "name": "ipython",
    "version": 3
   },
   "file_extension": ".py",
   "mimetype": "text/x-python",
   "name": "python",
   "nbconvert_exporter": "python",
   "pygments_lexer": "ipython3",
   "version": "3.8.5"
  }
 },
 "nbformat": 4,
 "nbformat_minor": 4
}
